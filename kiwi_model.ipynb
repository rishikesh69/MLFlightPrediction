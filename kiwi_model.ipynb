{
 "cells": [
  {
   "cell_type": "code",
   "execution_count": 1,
   "metadata": {},
   "outputs": [
    {
     "name": "stderr",
     "output_type": "stream",
     "text": [
      "/usr/local/lib/python3.4/dist-packages/pandas/core/computation/__init__.py:18: UserWarning: The installed version of numexpr 2.2.2 is not supported in pandas and will be not be used\n",
      "The minimum supported version is 2.4.6\n",
      "\n",
      "  ver=ver, min_ver=_MIN_NUMEXPR_VERSION), UserWarning)\n"
     ]
    }
   ],
   "source": [
    "%matplotlib inline\n",
    "import pandas as pd\n",
    "import numpy as np\n",
    "from matplotlib import pyplot as plt\n",
    "from copy import deepcopy\n",
    "from datetime import date\n",
    "import time"
   ]
  },
  {
   "cell_type": "code",
   "execution_count": 2,
   "metadata": {},
   "outputs": [
    {
     "name": "stderr",
     "output_type": "stream",
     "text": [
      "/usr/local/lib/python3.4/dist-packages/IPython/core/interactiveshell.py:2728: DtypeWarning: Columns (1) have mixed types. Specify dtype option on import or set low_memory=False.\n",
      "  interactivity=interactivity, compiler=compiler, result=result)\n"
     ]
    }
   ],
   "source": [
    "df = pd.read_csv('kiwi_final_dataset.csv')"
   ]
  },
  {
   "cell_type": "markdown",
   "metadata": {},
   "source": [
    "create separate column for dep 'year'"
   ]
  },
  {
   "cell_type": "code",
   "execution_count": 3,
   "metadata": {},
   "outputs": [],
   "source": [
    "df['scheduled_departure'] = pd.to_datetime(df['scheduled_departure'])\n",
    "df['year'] = df.scheduled_departure.dt.year"
   ]
  },
  {
   "cell_type": "markdown",
   "metadata": {},
   "source": [
    "Data columns 'sched_departure_date','scheduled_departure','lat_degrees','lng_degrees' are not required, so drop them."
   ]
  },
  {
   "cell_type": "code",
   "execution_count": 4,
   "metadata": {},
   "outputs": [],
   "source": [
    "df.drop(['sched_departure_date','scheduled_departure','lat_degrees','lng_degrees'], axis=1, inplace=True)"
   ]
  },
  {
   "cell_type": "markdown",
   "metadata": {},
   "source": [
    "## Data Exploration"
   ]
  },
  {
   "cell_type": "markdown",
   "metadata": {},
   "source": [
    "For temperature and weather, we have many rows with zero values bcoz information not available. We try to replace with mean values."
   ]
  },
  {
   "cell_type": "code",
   "execution_count": 5,
   "metadata": {},
   "outputs": [],
   "source": [
    "df1 = deepcopy(df)"
   ]
  },
  {
   "cell_type": "code",
   "execution_count": 6,
   "metadata": {},
   "outputs": [],
   "source": [
    "df1.loc[df1.weather=='0', 'weather'] = df1.weather.mode()[0]\n",
    "df1.loc[df1.temperature==0.0, 'temperature'] = df1.temperature.mean()"
   ]
  },
  {
   "cell_type": "markdown",
   "metadata": {},
   "source": [
    "### Feature Variables\n",
    "carrier        \n",
    "fltno          \n",
    "dep_apt        \n",
    "arr_apt             \n",
    "dayofweek      \n",
    "dayofmonth     \n",
    "month          \n",
    "is_holiday     \n",
    "dep_hour       \n",
    "dep_min        \n",
    "weather        \n",
    "temperature    \n",
    "year    \n",
    "### Target Variable\n",
    "delay_time (In minutes)"
   ]
  },
  {
   "cell_type": "markdown",
   "metadata": {},
   "source": [
    "Now we dont have any missing values"
   ]
  },
  {
   "cell_type": "code",
   "execution_count": 7,
   "metadata": {},
   "outputs": [
    {
     "data": {
      "text/plain": [
       "carrier        False\n",
       "fltno          False\n",
       "dep_apt        False\n",
       "arr_apt        False\n",
       "delay_time     False\n",
       "dayofweek      False\n",
       "dayofmonth     False\n",
       "month          False\n",
       "is_holiday     False\n",
       "dep_hour       False\n",
       "dep_min        False\n",
       "weather        False\n",
       "temperature    False\n",
       "year           False\n",
       "dtype: bool"
      ]
     },
     "execution_count": 7,
     "metadata": {},
     "output_type": "execute_result"
    }
   ],
   "source": [
    "df1.isnull().any()"
   ]
  },
  {
   "cell_type": "code",
   "execution_count": 8,
   "metadata": {},
   "outputs": [
    {
     "data": {
      "text/html": [
       "<div>\n",
       "<style>\n",
       "    .dataframe thead tr:only-child th {\n",
       "        text-align: right;\n",
       "    }\n",
       "\n",
       "    .dataframe thead th {\n",
       "        text-align: left;\n",
       "    }\n",
       "\n",
       "    .dataframe tbody tr th {\n",
       "        vertical-align: top;\n",
       "    }\n",
       "</style>\n",
       "<table border=\"1\" class=\"dataframe\">\n",
       "  <thead>\n",
       "    <tr style=\"text-align: right;\">\n",
       "      <th></th>\n",
       "      <th>carrier</th>\n",
       "      <th>fltno</th>\n",
       "      <th>dep_apt</th>\n",
       "      <th>arr_apt</th>\n",
       "      <th>delay_time</th>\n",
       "      <th>dayofweek</th>\n",
       "      <th>dayofmonth</th>\n",
       "      <th>month</th>\n",
       "      <th>is_holiday</th>\n",
       "      <th>dep_hour</th>\n",
       "      <th>dep_min</th>\n",
       "      <th>weather</th>\n",
       "      <th>temperature</th>\n",
       "      <th>year</th>\n",
       "    </tr>\n",
       "  </thead>\n",
       "  <tbody>\n",
       "    <tr>\n",
       "      <th>0</th>\n",
       "      <td>7I</td>\n",
       "      <td>773</td>\n",
       "      <td>CUR</td>\n",
       "      <td>MAO</td>\n",
       "      <td>1345.0</td>\n",
       "      <td>4</td>\n",
       "      <td>29</td>\n",
       "      <td>4</td>\n",
       "      <td>no</td>\n",
       "      <td>20</td>\n",
       "      <td>50</td>\n",
       "      <td>partly-cloudy-day</td>\n",
       "      <td>85.990</td>\n",
       "      <td>2016</td>\n",
       "    </tr>\n",
       "    <tr>\n",
       "      <th>1</th>\n",
       "      <td>AA</td>\n",
       "      <td>1361</td>\n",
       "      <td>PBI</td>\n",
       "      <td>PHL</td>\n",
       "      <td>986.0</td>\n",
       "      <td>4</td>\n",
       "      <td>29</td>\n",
       "      <td>4</td>\n",
       "      <td>no</td>\n",
       "      <td>15</td>\n",
       "      <td>55</td>\n",
       "      <td>partly-cloudy-day</td>\n",
       "      <td>77.070</td>\n",
       "      <td>2016</td>\n",
       "    </tr>\n",
       "    <tr>\n",
       "      <th>2</th>\n",
       "      <td>AA</td>\n",
       "      <td>137</td>\n",
       "      <td>DFW</td>\n",
       "      <td>HKG</td>\n",
       "      <td>278.0</td>\n",
       "      <td>4</td>\n",
       "      <td>29</td>\n",
       "      <td>4</td>\n",
       "      <td>no</td>\n",
       "      <td>7</td>\n",
       "      <td>50</td>\n",
       "      <td>partly-cloudy-night</td>\n",
       "      <td>71.860</td>\n",
       "      <td>2016</td>\n",
       "    </tr>\n",
       "    <tr>\n",
       "      <th>3</th>\n",
       "      <td>AA</td>\n",
       "      <td>4173</td>\n",
       "      <td>LGA</td>\n",
       "      <td>STL</td>\n",
       "      <td>0.0</td>\n",
       "      <td>4</td>\n",
       "      <td>29</td>\n",
       "      <td>4</td>\n",
       "      <td>no</td>\n",
       "      <td>17</td>\n",
       "      <td>10</td>\n",
       "      <td>partly-cloudy-night</td>\n",
       "      <td>52.165</td>\n",
       "      <td>2016</td>\n",
       "    </tr>\n",
       "    <tr>\n",
       "      <th>4</th>\n",
       "      <td>AA</td>\n",
       "      <td>5202</td>\n",
       "      <td>GNV</td>\n",
       "      <td>CLT</td>\n",
       "      <td>131.0</td>\n",
       "      <td>4</td>\n",
       "      <td>29</td>\n",
       "      <td>4</td>\n",
       "      <td>no</td>\n",
       "      <td>17</td>\n",
       "      <td>50</td>\n",
       "      <td>partly-cloudy-day</td>\n",
       "      <td>75.125</td>\n",
       "      <td>2016</td>\n",
       "    </tr>\n",
       "  </tbody>\n",
       "</table>\n",
       "</div>"
      ],
      "text/plain": [
       "  carrier fltno dep_apt arr_apt  delay_time  dayofweek  dayofmonth  month  \\\n",
       "0      7I   773     CUR     MAO      1345.0          4          29      4   \n",
       "1      AA  1361     PBI     PHL       986.0          4          29      4   \n",
       "2      AA   137     DFW     HKG       278.0          4          29      4   \n",
       "3      AA  4173     LGA     STL         0.0          4          29      4   \n",
       "4      AA  5202     GNV     CLT       131.0          4          29      4   \n",
       "\n",
       "  is_holiday  dep_hour  dep_min              weather  temperature  year  \n",
       "0         no        20       50    partly-cloudy-day       85.990  2016  \n",
       "1         no        15       55    partly-cloudy-day       77.070  2016  \n",
       "2         no         7       50  partly-cloudy-night       71.860  2016  \n",
       "3         no        17       10  partly-cloudy-night       52.165  2016  \n",
       "4         no        17       50    partly-cloudy-day       75.125  2016  "
      ]
     },
     "execution_count": 8,
     "metadata": {},
     "output_type": "execute_result"
    }
   ],
   "source": [
    "df1.head()"
   ]
  },
  {
   "cell_type": "markdown",
   "metadata": {},
   "source": [
    "Basic statistics of numerical variables"
   ]
  },
  {
   "cell_type": "code",
   "execution_count": 10,
   "metadata": {},
   "outputs": [
    {
     "data": {
      "text/html": [
       "<div>\n",
       "<style>\n",
       "    .dataframe thead tr:only-child th {\n",
       "        text-align: right;\n",
       "    }\n",
       "\n",
       "    .dataframe thead th {\n",
       "        text-align: left;\n",
       "    }\n",
       "\n",
       "    .dataframe tbody tr th {\n",
       "        vertical-align: top;\n",
       "    }\n",
       "</style>\n",
       "<table border=\"1\" class=\"dataframe\">\n",
       "  <thead>\n",
       "    <tr style=\"text-align: right;\">\n",
       "      <th></th>\n",
       "      <th>delay_time</th>\n",
       "      <th>dayofweek</th>\n",
       "      <th>dayofmonth</th>\n",
       "      <th>month</th>\n",
       "      <th>dep_hour</th>\n",
       "      <th>dep_min</th>\n",
       "      <th>temperature</th>\n",
       "      <th>year</th>\n",
       "    </tr>\n",
       "  </thead>\n",
       "  <tbody>\n",
       "    <tr>\n",
       "      <th>count</th>\n",
       "      <td>476859.00000</td>\n",
       "      <td>476859.000000</td>\n",
       "      <td>476859.000000</td>\n",
       "      <td>476859.000000</td>\n",
       "      <td>476859.000000</td>\n",
       "      <td>476859.000000</td>\n",
       "      <td>476859.000000</td>\n",
       "      <td>476859.0</td>\n",
       "    </tr>\n",
       "    <tr>\n",
       "      <th>mean</th>\n",
       "      <td>26.27557</td>\n",
       "      <td>2.559077</td>\n",
       "      <td>3.665589</td>\n",
       "      <td>4.937854</td>\n",
       "      <td>13.351697</td>\n",
       "      <td>26.453113</td>\n",
       "      <td>62.320175</td>\n",
       "      <td>2016.0</td>\n",
       "    </tr>\n",
       "    <tr>\n",
       "      <th>std</th>\n",
       "      <td>84.32242</td>\n",
       "      <td>2.684386</td>\n",
       "      <td>6.820593</td>\n",
       "      <td>0.241421</td>\n",
       "      <td>5.029911</td>\n",
       "      <td>17.870952</td>\n",
       "      <td>13.523005</td>\n",
       "      <td>0.0</td>\n",
       "    </tr>\n",
       "    <tr>\n",
       "      <th>min</th>\n",
       "      <td>0.00000</td>\n",
       "      <td>0.000000</td>\n",
       "      <td>1.000000</td>\n",
       "      <td>4.000000</td>\n",
       "      <td>0.000000</td>\n",
       "      <td>0.000000</td>\n",
       "      <td>17.515000</td>\n",
       "      <td>2016.0</td>\n",
       "    </tr>\n",
       "    <tr>\n",
       "      <th>25%</th>\n",
       "      <td>0.00000</td>\n",
       "      <td>0.000000</td>\n",
       "      <td>1.000000</td>\n",
       "      <td>5.000000</td>\n",
       "      <td>9.000000</td>\n",
       "      <td>10.000000</td>\n",
       "      <td>50.985000</td>\n",
       "      <td>2016.0</td>\n",
       "    </tr>\n",
       "    <tr>\n",
       "      <th>50%</th>\n",
       "      <td>0.00000</td>\n",
       "      <td>1.000000</td>\n",
       "      <td>2.000000</td>\n",
       "      <td>5.000000</td>\n",
       "      <td>13.000000</td>\n",
       "      <td>25.000000</td>\n",
       "      <td>60.153260</td>\n",
       "      <td>2016.0</td>\n",
       "    </tr>\n",
       "    <tr>\n",
       "      <th>75%</th>\n",
       "      <td>14.00000</td>\n",
       "      <td>6.000000</td>\n",
       "      <td>3.000000</td>\n",
       "      <td>5.000000</td>\n",
       "      <td>17.000000</td>\n",
       "      <td>40.000000</td>\n",
       "      <td>72.765000</td>\n",
       "      <td>2016.0</td>\n",
       "    </tr>\n",
       "    <tr>\n",
       "      <th>max</th>\n",
       "      <td>2659.00000</td>\n",
       "      <td>6.000000</td>\n",
       "      <td>30.000000</td>\n",
       "      <td>5.000000</td>\n",
       "      <td>23.000000</td>\n",
       "      <td>59.000000</td>\n",
       "      <td>100.955000</td>\n",
       "      <td>2016.0</td>\n",
       "    </tr>\n",
       "  </tbody>\n",
       "</table>\n",
       "</div>"
      ],
      "text/plain": [
       "         delay_time      dayofweek     dayofmonth          month  \\\n",
       "count  476859.00000  476859.000000  476859.000000  476859.000000   \n",
       "mean       26.27557       2.559077       3.665589       4.937854   \n",
       "std        84.32242       2.684386       6.820593       0.241421   \n",
       "min         0.00000       0.000000       1.000000       4.000000   \n",
       "25%         0.00000       0.000000       1.000000       5.000000   \n",
       "50%         0.00000       1.000000       2.000000       5.000000   \n",
       "75%        14.00000       6.000000       3.000000       5.000000   \n",
       "max      2659.00000       6.000000      30.000000       5.000000   \n",
       "\n",
       "            dep_hour        dep_min    temperature      year  \n",
       "count  476859.000000  476859.000000  476859.000000  476859.0  \n",
       "mean       13.351697      26.453113      62.320175    2016.0  \n",
       "std         5.029911      17.870952      13.523005       0.0  \n",
       "min         0.000000       0.000000      17.515000    2016.0  \n",
       "25%         9.000000      10.000000      50.985000    2016.0  \n",
       "50%        13.000000      25.000000      60.153260    2016.0  \n",
       "75%        17.000000      40.000000      72.765000    2016.0  \n",
       "max        23.000000      59.000000     100.955000    2016.0  "
      ]
     },
     "execution_count": 10,
     "metadata": {},
     "output_type": "execute_result"
    }
   ],
   "source": [
    "df1.describe()"
   ]
  },
  {
   "cell_type": "markdown",
   "metadata": {},
   "source": [
    "Explore categorical variables"
   ]
  },
  {
   "cell_type": "code",
   "execution_count": null,
   "metadata": {
    "collapsed": true
   },
   "outputs": [],
   "source": [
    "df1.carrier.unique()\n",
    "df1.dep_apt.value_counts()\n",
    "df1.weather.value_counts()\n",
    "df1.is_holiday.value_counts()\n",
    "df1.arr_apt.value_counts()\n",
    "df1.fltno.value_counts()"
   ]
  },
  {
   "cell_type": "markdown",
   "metadata": {},
   "source": [
    "### Plot distributions"
   ]
  },
  {
   "cell_type": "markdown",
   "metadata": {},
   "source": [
    "#### Find relation between departure airport and average delay time"
   ]
  },
  {
   "cell_type": "markdown",
   "metadata": {},
   "source": [
    "check top 10 airports with maximum average delay times"
   ]
  },
  {
   "cell_type": "code",
   "execution_count": 11,
   "metadata": {},
   "outputs": [
    {
     "data": {
      "text/plain": [
       "<matplotlib.text.Text at 0x7f1c568d85c0>"
      ]
     },
     "execution_count": 11,
     "metadata": {},
     "output_type": "execute_result"
    },
    {
     "data": {
      "image/png": "[encoded data removed]",
      "text/plain": [
       "<matplotlib.figure.Figure at 0x7f1c5671f080>"
      ]
     },
     "metadata": {},
     "output_type": "display_data"
    }
   ],
   "source": [
    "temp = df1[['dep_apt','delay_time']].groupby('dep_apt').mean().sort_values(by='delay_time',ascending=False).head(10)\n",
    "temp.plot.bar(figsize=(12, 10), legend=True, fontsize=12)\n",
    "plt.ylabel('delay_time in mins', fontsize=12)"
   ]
  },
  {
   "cell_type": "markdown",
   "metadata": {},
   "source": [
    "plot top 20 airports with max no of flights operating"
   ]
  },
  {
   "cell_type": "code",
   "execution_count": 12,
   "metadata": {},
   "outputs": [
    {
     "data": {
      "text/plain": [
       "<matplotlib.text.Text at 0x7f1c5659ce80>"
      ]
     },
     "execution_count": 12,
     "metadata": {},
     "output_type": "execute_result"
    },
    {
     "data": {
      "image/png": "[encoded data removed]",
      "text/plain": [
       "<matplotlib.figure.Figure at 0x7f1c567e4da0>"
      ]
     },
     "metadata": {},
     "output_type": "display_data"
    }
   ],
   "source": [
    "df1.dep_apt.value_counts().head(20).plot.bar(figsize=(12, 10), legend=True, fontsize=12)\n",
    "plt.xlabel('Airport Code', fontsize=12)\n",
    "plt.ylabel('No of flights', fontsize=12)"
   ]
  },
  {
   "cell_type": "markdown",
   "metadata": {},
   "source": [
    "Find top airlines/carrier with max average delay"
   ]
  },
  {
   "cell_type": "code",
   "execution_count": 13,
   "metadata": {},
   "outputs": [
    {
     "data": {
      "text/plain": [
       "<matplotlib.text.Text at 0x7f1c564ee5c0>"
      ]
     },
     "execution_count": 13,
     "metadata": {},
     "output_type": "execute_result"
    },
    {
     "data": {
      "image/png": "[encoded data removed]",
      "text/plain": [
       "<matplotlib.figure.Figure at 0x7f1c565addd8>"
      ]
     },
     "metadata": {},
     "output_type": "display_data"
    }
   ],
   "source": [
    "temp = df1[['carrier','delay_time']].groupby('carrier').mean().sort_values(by='delay_time',ascending=False).head(10)\n",
    "temp.plot.bar(figsize=(12, 10), legend=True, fontsize=12)\n",
    "plt.ylabel('delay_time in mins', fontsize=12)"
   ]
  },
  {
   "cell_type": "markdown",
   "metadata": {},
   "source": [
    "Find relation between Weather and average delay time"
   ]
  },
  {
   "cell_type": "code",
   "execution_count": 14,
   "metadata": {},
   "outputs": [
    {
     "data": {
      "text/plain": [
       "<matplotlib.text.Text at 0x7f1c5646b780>"
      ]
     },
     "execution_count": 14,
     "metadata": {},
     "output_type": "execute_result"
    },
    {
     "data": {
      "image/png": "[encoded data removed]",
      "text/plain": [
       "<matplotlib.figure.Figure at 0x7f1c564579e8>"
      ]
     },
     "metadata": {},
     "output_type": "display_data"
    }
   ],
   "source": [
    "df1[['weather','delay_time']].groupby('weather').mean().plot.bar(figsize=(12, 10), legend=True, fontsize=12)\n",
    "plt.ylabel('## delay_time in mins', fontsize=12)"
   ]
  },
  {
   "cell_type": "markdown",
   "metadata": {},
   "source": [
    "Plot average delay_time in every hour"
   ]
  },
  {
   "cell_type": "code",
   "execution_count": 15,
   "metadata": {},
   "outputs": [
    {
     "data": {
      "text/plain": [
       "<matplotlib.text.Text at 0x7f1c563eeeb8>"
      ]
     },
     "execution_count": 15,
     "metadata": {},
     "output_type": "execute_result"
    },
    {
     "data": {
      "image/png": "[encoded data removed]",
      "text/plain": [
       "<matplotlib.figure.Figure at 0x7f1c563d81d0>"
      ]
     },
     "metadata": {},
     "output_type": "display_data"
    }
   ],
   "source": [
    "df1[['dep_hour','delay_time']].groupby('dep_hour').mean().plot.bar(figsize=(12, 10), legend=True, fontsize=12)\n",
    "plt.ylabel('## delay_time in mins', fontsize=12)"
   ]
  },
  {
   "cell_type": "markdown",
   "metadata": {},
   "source": [
    "## Feature Engineering"
   ]
  },
  {
   "cell_type": "markdown",
   "metadata": {},
   "source": [
    "#### Please note that I have already dropped few columns before.."
   ]
  },
  {
   "cell_type": "markdown",
   "metadata": {},
   "source": [
    "#### Drop fltno, arr_apt, year columns"
   ]
  },
  {
   "cell_type": "code",
   "execution_count": 16,
   "metadata": {},
   "outputs": [],
   "source": [
    "df1.drop(['fltno', 'arr_apt', 'year'], axis=1, inplace=True)"
   ]
  },
  {
   "cell_type": "markdown",
   "metadata": {},
   "source": [
    "#### Numerical and One-Hot Coding of Categorical variables"
   ]
  },
  {
   "cell_type": "code",
   "execution_count": 17,
   "metadata": {},
   "outputs": [],
   "source": [
    "from sklearn.preprocessing import LabelEncoder\n",
    "df_new = deepcopy(df1)\n",
    "df_new[['carrier','dep_apt']] = df_new[['carrier','dep_apt']].apply(LabelEncoder().fit_transform)"
   ]
  },
  {
   "cell_type": "code",
   "execution_count": 18,
   "metadata": {},
   "outputs": [
    {
     "data": {
      "text/html": [
       "<div>\n",
       "<style>\n",
       "    .dataframe thead tr:only-child th {\n",
       "        text-align: right;\n",
       "    }\n",
       "\n",
       "    .dataframe thead th {\n",
       "        text-align: left;\n",
       "    }\n",
       "\n",
       "    .dataframe tbody tr th {\n",
       "        vertical-align: top;\n",
       "    }\n",
       "</style>\n",
       "<table border=\"1\" class=\"dataframe\">\n",
       "  <thead>\n",
       "    <tr style=\"text-align: right;\">\n",
       "      <th></th>\n",
       "      <th>carrier</th>\n",
       "      <th>dep_apt</th>\n",
       "      <th>delay_time</th>\n",
       "      <th>dayofweek</th>\n",
       "      <th>dayofmonth</th>\n",
       "      <th>month</th>\n",
       "      <th>is_holiday</th>\n",
       "      <th>dep_hour</th>\n",
       "      <th>dep_min</th>\n",
       "      <th>weather</th>\n",
       "      <th>temperature</th>\n",
       "    </tr>\n",
       "  </thead>\n",
       "  <tbody>\n",
       "    <tr>\n",
       "      <th>0</th>\n",
       "      <td>33</td>\n",
       "      <td>375</td>\n",
       "      <td>1345.0</td>\n",
       "      <td>4</td>\n",
       "      <td>29</td>\n",
       "      <td>4</td>\n",
       "      <td>no</td>\n",
       "      <td>20</td>\n",
       "      <td>50</td>\n",
       "      <td>partly-cloudy-day</td>\n",
       "      <td>85.990</td>\n",
       "    </tr>\n",
       "    <tr>\n",
       "      <th>1</th>\n",
       "      <td>52</td>\n",
       "      <td>1280</td>\n",
       "      <td>986.0</td>\n",
       "      <td>4</td>\n",
       "      <td>29</td>\n",
       "      <td>4</td>\n",
       "      <td>no</td>\n",
       "      <td>15</td>\n",
       "      <td>55</td>\n",
       "      <td>partly-cloudy-day</td>\n",
       "      <td>77.070</td>\n",
       "    </tr>\n",
       "    <tr>\n",
       "      <th>2</th>\n",
       "      <td>52</td>\n",
       "      <td>412</td>\n",
       "      <td>278.0</td>\n",
       "      <td>4</td>\n",
       "      <td>29</td>\n",
       "      <td>4</td>\n",
       "      <td>no</td>\n",
       "      <td>7</td>\n",
       "      <td>50</td>\n",
       "      <td>partly-cloudy-night</td>\n",
       "      <td>71.860</td>\n",
       "    </tr>\n",
       "    <tr>\n",
       "      <th>3</th>\n",
       "      <td>52</td>\n",
       "      <td>958</td>\n",
       "      <td>0.0</td>\n",
       "      <td>4</td>\n",
       "      <td>29</td>\n",
       "      <td>4</td>\n",
       "      <td>no</td>\n",
       "      <td>17</td>\n",
       "      <td>10</td>\n",
       "      <td>partly-cloudy-night</td>\n",
       "      <td>52.165</td>\n",
       "    </tr>\n",
       "    <tr>\n",
       "      <th>4</th>\n",
       "      <td>52</td>\n",
       "      <td>600</td>\n",
       "      <td>131.0</td>\n",
       "      <td>4</td>\n",
       "      <td>29</td>\n",
       "      <td>4</td>\n",
       "      <td>no</td>\n",
       "      <td>17</td>\n",
       "      <td>50</td>\n",
       "      <td>partly-cloudy-day</td>\n",
       "      <td>75.125</td>\n",
       "    </tr>\n",
       "  </tbody>\n",
       "</table>\n",
       "</div>"
      ],
      "text/plain": [
       "   carrier  dep_apt  delay_time  dayofweek  dayofmonth  month is_holiday  \\\n",
       "0       33      375      1345.0          4          29      4         no   \n",
       "1       52     1280       986.0          4          29      4         no   \n",
       "2       52      412       278.0          4          29      4         no   \n",
       "3       52      958         0.0          4          29      4         no   \n",
       "4       52      600       131.0          4          29      4         no   \n",
       "\n",
       "   dep_hour  dep_min              weather  temperature  \n",
       "0        20       50    partly-cloudy-day       85.990  \n",
       "1        15       55    partly-cloudy-day       77.070  \n",
       "2         7       50  partly-cloudy-night       71.860  \n",
       "3        17       10  partly-cloudy-night       52.165  \n",
       "4        17       50    partly-cloudy-day       75.125  "
      ]
     },
     "execution_count": 18,
     "metadata": {},
     "output_type": "execute_result"
    }
   ],
   "source": [
    "df_new.head()"
   ]
  },
  {
   "cell_type": "code",
   "execution_count": 13,
   "metadata": {},
   "outputs": [],
   "source": [
    "one_hot = pd.get_dummies(df_new.is_holiday)\n",
    "df_new = df_new.join(one_hot)\n",
    "df_new.drop('is_holiday',axis=1, inplace=True)"
   ]
  },
  {
   "cell_type": "code",
   "execution_count": 19,
   "metadata": {},
   "outputs": [],
   "source": [
    "one_hot_weather = pd.get_dummies(df_new.weather)\n",
    "df_new = df_new.join(one_hot_weather)\n",
    "df_new.drop('weather',axis=1, inplace=True)"
   ]
  },
  {
   "cell_type": "code",
   "execution_count": 20,
   "metadata": {},
   "outputs": [
    {
     "data": {
      "text/html": [
       "<div>\n",
       "<style>\n",
       "    .dataframe thead tr:only-child th {\n",
       "        text-align: right;\n",
       "    }\n",
       "\n",
       "    .dataframe thead th {\n",
       "        text-align: left;\n",
       "    }\n",
       "\n",
       "    .dataframe tbody tr th {\n",
       "        vertical-align: top;\n",
       "    }\n",
       "</style>\n",
       "<table border=\"1\" class=\"dataframe\">\n",
       "  <thead>\n",
       "    <tr style=\"text-align: right;\">\n",
       "      <th></th>\n",
       "      <th>carrier</th>\n",
       "      <th>dep_apt</th>\n",
       "      <th>delay_time</th>\n",
       "      <th>dayofweek</th>\n",
       "      <th>dayofmonth</th>\n",
       "      <th>month</th>\n",
       "      <th>is_holiday</th>\n",
       "      <th>dep_hour</th>\n",
       "      <th>dep_min</th>\n",
       "      <th>temperature</th>\n",
       "      <th>clear-day</th>\n",
       "      <th>cloudy</th>\n",
       "      <th>fog</th>\n",
       "      <th>partly-cloudy-day</th>\n",
       "      <th>partly-cloudy-night</th>\n",
       "      <th>rain</th>\n",
       "      <th>snow</th>\n",
       "      <th>wind</th>\n",
       "    </tr>\n",
       "  </thead>\n",
       "  <tbody>\n",
       "    <tr>\n",
       "      <th>0</th>\n",
       "      <td>33</td>\n",
       "      <td>375</td>\n",
       "      <td>1345.0</td>\n",
       "      <td>4</td>\n",
       "      <td>29</td>\n",
       "      <td>4</td>\n",
       "      <td>no</td>\n",
       "      <td>20</td>\n",
       "      <td>50</td>\n",
       "      <td>85.990</td>\n",
       "      <td>0</td>\n",
       "      <td>0</td>\n",
       "      <td>0</td>\n",
       "      <td>1</td>\n",
       "      <td>0</td>\n",
       "      <td>0</td>\n",
       "      <td>0</td>\n",
       "      <td>0</td>\n",
       "    </tr>\n",
       "    <tr>\n",
       "      <th>1</th>\n",
       "      <td>52</td>\n",
       "      <td>1280</td>\n",
       "      <td>986.0</td>\n",
       "      <td>4</td>\n",
       "      <td>29</td>\n",
       "      <td>4</td>\n",
       "      <td>no</td>\n",
       "      <td>15</td>\n",
       "      <td>55</td>\n",
       "      <td>77.070</td>\n",
       "      <td>0</td>\n",
       "      <td>0</td>\n",
       "      <td>0</td>\n",
       "      <td>1</td>\n",
       "      <td>0</td>\n",
       "      <td>0</td>\n",
       "      <td>0</td>\n",
       "      <td>0</td>\n",
       "    </tr>\n",
       "    <tr>\n",
       "      <th>2</th>\n",
       "      <td>52</td>\n",
       "      <td>412</td>\n",
       "      <td>278.0</td>\n",
       "      <td>4</td>\n",
       "      <td>29</td>\n",
       "      <td>4</td>\n",
       "      <td>no</td>\n",
       "      <td>7</td>\n",
       "      <td>50</td>\n",
       "      <td>71.860</td>\n",
       "      <td>0</td>\n",
       "      <td>0</td>\n",
       "      <td>0</td>\n",
       "      <td>0</td>\n",
       "      <td>1</td>\n",
       "      <td>0</td>\n",
       "      <td>0</td>\n",
       "      <td>0</td>\n",
       "    </tr>\n",
       "    <tr>\n",
       "      <th>3</th>\n",
       "      <td>52</td>\n",
       "      <td>958</td>\n",
       "      <td>0.0</td>\n",
       "      <td>4</td>\n",
       "      <td>29</td>\n",
       "      <td>4</td>\n",
       "      <td>no</td>\n",
       "      <td>17</td>\n",
       "      <td>10</td>\n",
       "      <td>52.165</td>\n",
       "      <td>0</td>\n",
       "      <td>0</td>\n",
       "      <td>0</td>\n",
       "      <td>0</td>\n",
       "      <td>1</td>\n",
       "      <td>0</td>\n",
       "      <td>0</td>\n",
       "      <td>0</td>\n",
       "    </tr>\n",
       "    <tr>\n",
       "      <th>4</th>\n",
       "      <td>52</td>\n",
       "      <td>600</td>\n",
       "      <td>131.0</td>\n",
       "      <td>4</td>\n",
       "      <td>29</td>\n",
       "      <td>4</td>\n",
       "      <td>no</td>\n",
       "      <td>17</td>\n",
       "      <td>50</td>\n",
       "      <td>75.125</td>\n",
       "      <td>0</td>\n",
       "      <td>0</td>\n",
       "      <td>0</td>\n",
       "      <td>1</td>\n",
       "      <td>0</td>\n",
       "      <td>0</td>\n",
       "      <td>0</td>\n",
       "      <td>0</td>\n",
       "    </tr>\n",
       "  </tbody>\n",
       "</table>\n",
       "</div>"
      ],
      "text/plain": [
       "   carrier  dep_apt  delay_time  dayofweek  dayofmonth  month is_holiday  \\\n",
       "0       33      375      1345.0          4          29      4         no   \n",
       "1       52     1280       986.0          4          29      4         no   \n",
       "2       52      412       278.0          4          29      4         no   \n",
       "3       52      958         0.0          4          29      4         no   \n",
       "4       52      600       131.0          4          29      4         no   \n",
       "\n",
       "   dep_hour  dep_min  temperature  clear-day  cloudy  fog  partly-cloudy-day  \\\n",
       "0        20       50       85.990          0       0    0                  1   \n",
       "1        15       55       77.070          0       0    0                  1   \n",
       "2         7       50       71.860          0       0    0                  0   \n",
       "3        17       10       52.165          0       0    0                  0   \n",
       "4        17       50       75.125          0       0    0                  1   \n",
       "\n",
       "   partly-cloudy-night  rain  snow  wind  \n",
       "0                    0     0     0     0  \n",
       "1                    0     0     0     0  \n",
       "2                    1     0     0     0  \n",
       "3                    1     0     0     0  \n",
       "4                    0     0     0     0  "
      ]
     },
     "execution_count": 20,
     "metadata": {},
     "output_type": "execute_result"
    }
   ],
   "source": [
    "df_new.head()"
   ]
  },
  {
   "cell_type": "markdown",
   "metadata": {},
   "source": [
    "## Random Forest Regression Model"
   ]
  },
  {
   "cell_type": "markdown",
   "metadata": {},
   "source": [
    "#### Split data in 70% train set and 30% test set."
   ]
  },
  {
   "cell_type": "code",
   "execution_count": 21,
   "metadata": {},
   "outputs": [],
   "source": [
    "from sklearn.metrics import mean_squared_error\n",
    "from sklearn.model_selection import train_test_split\n",
    "from sklearn.ensemble import RandomForestRegressor,GradientBoostingRegressor\n",
    "\n",
    "train, test = train_test_split(df_new, test_size = 0.3)\n",
    "\n",
    "#Define target:\n",
    "target = 'delay_time'\n",
    "\n",
    "## Define target variable and dropping unwanted features\n",
    "y  = df_new[target]\n",
    "x =  df_new.drop(target,axis=1)\n",
    "x_train, x_test, y_train, y_test = train_test_split(x, y, test_size = 0.3)"
   ]
  },
  {
   "cell_type": "code",
   "execution_count": 44,
   "metadata": {},
   "outputs": [
    {
     "name": "stdout",
     "output_type": "stream",
     "text": [
      "CPU times: user 5min 39s, sys: 76 ms, total: 5min 39s\n",
      "Wall time: 1min 30s\n"
     ]
    }
   ],
   "source": [
    "%%time\n",
    "random_reg = RandomForestRegressor(n_estimators = 200, oob_score = True, n_jobs = -1,random_state =50, max_features = \"auto\", min_samples_leaf = 50)\n",
    "random_reg.fit(x_train, y_train)"
   ]
  },
  {
   "cell_type": "markdown",
   "metadata": {},
   "source": [
    "#### Find feature importance"
   ]
  },
  {
   "cell_type": "code",
   "execution_count": 45,
   "metadata": {},
   "outputs": [
    {
     "name": "stdout",
     "output_type": "stream",
     "text": [
      "31.32018382%\n",
      "16.70862249%\n",
      "1.17420853%\n",
      "2.78372506%\n",
      "2.11247554%\n",
      "21.90277677%\n",
      "4.76532725%\n",
      "14.52445681%\n",
      "0.27305622%\n",
      "0.26665103%\n",
      "1.82790649%\n",
      "0.00215078%\n",
      "0.21650383%\n",
      "0.48981406%\n",
      "0.14231790%\n",
      "1.05912744%\n",
      "0.02070190%\n",
      "0.40999408%\n"
     ]
    }
   ],
   "source": [
    "for feature_imp in random_reg.feature_importances_:\n",
    "    print(\"%s\" %(\"{0:.8%}\".format(feature_imp)))"
   ]
  },
  {
   "cell_type": "code",
   "execution_count": 46,
   "metadata": {},
   "outputs": [
    {
     "data": {
      "text/plain": [
       "77.137891449612994"
      ]
     },
     "execution_count": 46,
     "metadata": {},
     "output_type": "execute_result"
    }
   ],
   "source": [
    "y_pred = random_reg.predict(x_test)\n",
    "np.sqrt(mean_squared_error(y_test, y_pred))"
   ]
  },
  {
   "cell_type": "markdown",
   "metadata": {},
   "source": [
    "Extract important features"
   ]
  },
  {
   "cell_type": "code",
   "execution_count": 22,
   "metadata": {},
   "outputs": [],
   "source": [
    "x_train_imp = x_train[['carrier', 'dep_apt', 'dayofmonth', 'dep_hour', 'dep_min', 'temperature']]\n",
    "x_test_imp = x_test[['carrier', 'dep_apt', 'dayofmonth', 'dep_hour', 'dep_min', 'temperature']]"
   ]
  },
  {
   "cell_type": "markdown",
   "metadata": {},
   "source": [
    "we modify min_sample_leaf=1 and see some improvement in results "
   ]
  },
  {
   "cell_type": "code",
   "execution_count": 23,
   "metadata": {},
   "outputs": [
    {
     "name": "stdout",
     "output_type": "stream",
     "text": [
      "CPU times: user 7min 48s, sys: 2.64 s, total: 7min 51s\n",
      "Wall time: 2min 13s\n"
     ]
    }
   ],
   "source": [
    "%%time\n",
    "random_reg1 = RandomForestRegressor(n_estimators = 200, oob_score = True, n_jobs = -1,random_state =50, max_features = \"auto\", min_samples_leaf = 1)\n",
    "random_reg1.fit(x_train_imp, y_train)"
   ]
  },
  {
   "cell_type": "code",
   "execution_count": 24,
   "metadata": {},
   "outputs": [
    {
     "data": {
      "text/plain": [
       "66.525761782186763"
      ]
     },
     "execution_count": 24,
     "metadata": {},
     "output_type": "execute_result"
    }
   ],
   "source": [
    "y_pred_imp = random_reg1.predict(x_test_imp)\n",
    "np.sqrt(mean_squared_error(y_test, y_pred_imp))"
   ]
  },
  {
   "cell_type": "markdown",
   "metadata": {},
   "source": [
    "#### GridsearchCV to improve Randomforest regressor"
   ]
  },
  {
   "cell_type": "code",
   "execution_count": null,
   "metadata": {},
   "outputs": [],
   "source": [
    "from sklearn.grid_search import GridSearchCV"
   ]
  },
  {
   "cell_type": "code",
   "execution_count": 25,
   "metadata": {},
   "outputs": [],
   "source": [
    "param_grid = { \n",
    "    'n_estimators': [200, 500, 700],\n",
    "    'max_depth': [None, 1, 2, 3],\n",
    "     'min_samples_split': [2, 3, 4],\n",
    "     'min_samples_leaf':[1, 200]\n",
    "}\n",
    "CV_rfc = GridSearchCV(estimator=random_reg1, param_grid=param_grid)"
   ]
  },
  {
   "cell_type": "code",
   "execution_count": null,
   "metadata": {},
   "outputs": [],
   "source": [
    "CV_rfc.fit(x_train_imp, y_train)\n",
    "CV_rfc.best_params_"
   ]
  },
  {
   "cell_type": "markdown",
   "metadata": {},
   "source": [
    "#### xgboost regressor for faster execution"
   ]
  },
  {
   "cell_type": "code",
   "execution_count": 25,
   "metadata": {},
   "outputs": [
    {
     "name": "stderr",
     "output_type": "stream",
     "text": [
      "/home/RISHI/.local/lib/python3.4/site-packages/xgboost-0.6-py3.4.egg/xgboost/sklearn.py:210: DeprecationWarning: The nthread parameter is deprecated as of version .6.Please use n_jobs instead.nthread is deprecated.\n",
      "  'nthread is deprecated.', DeprecationWarning)\n"
     ]
    },
    {
     "data": {
      "text/plain": [
       "XGBRegressor(base_score=0.5, booster='gbtree', colsample_bylevel=1,\n",
       "       colsample_bytree=1, gamma=0, learning_rate=0.5, max_delta_step=0,\n",
       "       max_depth=7, min_child_weight=1, missing=None, n_estimators=500,\n",
       "       n_jobs=1, nthread=4, objective='reg:linear', random_state=0,\n",
       "       reg_alpha=0, reg_lambda=1, scale_pos_weight=1, seed=None,\n",
       "       silent=True, subsample=0.75)"
      ]
     },
     "execution_count": 25,
     "metadata": {},
     "output_type": "execute_result"
    }
   ],
   "source": [
    "from xgboost import XGBRegressor\n",
    "xgb_reg = XGBRegressor(n_estimators=500, learning_rate=0.5, max_depth=7, subsample=0.75, nthread=4)\n",
    "xgb_reg.fit(x_train_imp, y_train)"
   ]
  },
  {
   "cell_type": "code",
   "execution_count": 26,
   "metadata": {},
   "outputs": [
    {
     "data": {
      "text/plain": [
       "66.967430320095545"
      ]
     },
     "execution_count": 26,
     "metadata": {},
     "output_type": "execute_result"
    }
   ],
   "source": [
    "y_pred_imp = xgb_reg.predict(x_test_imp)\n",
    "np.sqrt(mean_squared_error(y_test, y_pred_imp))"
   ]
  },
  {
   "cell_type": "markdown",
   "metadata": {},
   "source": [
    "Tuning hyperparameters"
   ]
  },
  {
   "cell_type": "code",
   "execution_count": null,
   "metadata": {
    "collapsed": true
   },
   "outputs": [],
   "source": [
    "parameters = {\n",
    "        'eta': [0.05, 0.1, 0.3],\n",
    "        'max_depth': [3, 4, 5],\n",
    "        'subsample': [0.9, 1.0],\n",
    "        'colsample_bytree': [0.9, 1.0],\n",
    "    }"
   ]
  }
 ],
 "metadata": {
  "kernelspec": {
   "display_name": "Python 3",
   "language": "python",
   "name": "python3"
  },
  "language_info": {
   "codemirror_mode": {
    "name": "ipython",
    "version": 3
   },
   "file_extension": ".py",
   "mimetype": "text/x-python",
   "name": "python",
   "nbconvert_exporter": "python",
   "pygments_lexer": "ipython3",
   "version": "3.4.3"
  }
 },
 "nbformat": 4,
 "nbformat_minor": 2
}
